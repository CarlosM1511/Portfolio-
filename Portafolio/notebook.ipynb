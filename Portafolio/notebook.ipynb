{
 "cells": [
  {
   "cell_type": "markdown",
   "id": "d8b84805",
   "metadata": {},
   "source": [
    "# Analyzing Wikipedia Clickstream Data\n",
    "* [View Solution Notebook](./solution.html)\n",
    "\n",
    "* [Project Page Link](https://www.codecademy.com/courses/big-data-pyspark/projects/analyzing-wikipedia-pyspark)"
   ]
  },
  {
   "cell_type": "markdown",
   "id": "8fddc058",
   "metadata": {},
   "source": [
    "### Import Libraries"
   ]
  },
  {
   "cell_type": "code",
   "execution_count": 2,
   "id": "33467f42",
   "metadata": {},
   "outputs": [],
   "source": [
    "from pyspark.sql import SparkSession"
   ]
  },
  {
   "cell_type": "markdown",
   "id": "b2313603",
   "metadata": {},
   "source": [
    "## Task Group 1 - Introduction to Clickstream Data"
   ]
  },
  {
   "cell_type": "markdown",
   "id": "291ad84f",
   "metadata": {},
   "source": [
    "### Task 1\n",
    "Create a new `SparkSession` and assign it to a variable named `spark`."
   ]
  },
  {
   "cell_type": "code",
   "execution_count": 4,
   "id": "13837f16",
   "metadata": {},
   "outputs": [],
   "source": [
    "# Create a new SparkSession\n",
    "spark = SparkSession.builder.getOrCreate()"
   ]
  },
  {
   "cell_type": "markdown",
   "id": "377fbbef",
   "metadata": {},
   "source": [
    "### Task 2\n",
    "\n",
    "Create an RDD from a list of sample clickstream counts and save it as `clickstream_counts_rdd`."
   ]
  },
  {
   "cell_type": "code",
   "execution_count": 8,
   "id": "92b1a38b",
   "metadata": {},
   "outputs": [],
   "source": [
    "# Sample clickstream counts\n",
    "sample_clickstream_counts = [\n",
    "    [\"other-search\", \"Hanging_Gardens_of_Babylon\", \"external\", 47000],\n",
    "    [\"other-empty\", \"Hanging_Gardens_of_Babylon\", \"external\", 34600],\n",
    "    [\"Wonders_of_the_World\", \"Hanging_Gardens_of_Babylon\", \"link\", 14000],\n",
    "    [\"Babylon\", \"Hanging_Gardens_of_Babylon\", \"link\", 2500]\n",
    "]\n",
    "\n",
    "# Create RDD from sample data\n",
    "clickstream_counts_rdd = spark.sparkContext.parallelize(sample_clickstream_counts)"
   ]
  },
  {
   "cell_type": "markdown",
   "id": "4ae6f0d2",
   "metadata": {},
   "source": [
    "### Task 3\n",
    "\n",
    "Using the RDD from the previous step, create a DataFrame named `clickstream_sample_df`"
   ]
  },
  {
   "cell_type": "code",
   "execution_count": 12,
   "id": "12dd3ee7",
   "metadata": {},
   "outputs": [
    {
     "name": "stdout",
     "output_type": "stream",
     "text": [
      "+--------------------+--------------------------+-------------+----------+\n",
      "|source_page         |target_page               |link_category|link_count|\n",
      "+--------------------+--------------------------+-------------+----------+\n",
      "|other-search        |Hanging_Gardens_of_Babylon|external     |47000     |\n",
      "|other-empty         |Hanging_Gardens_of_Babylon|external     |34600     |\n",
      "|Wonders_of_the_World|Hanging_Gardens_of_Babylon|link         |14000     |\n",
      "|Babylon             |Hanging_Gardens_of_Babylon|link         |2500      |\n",
      "+--------------------+--------------------------+-------------+----------+\n",
      "\n"
     ]
    }
   ],
   "source": [
    "# Create a DataFrame from the RDD of sample clickstream counts\n",
    "clickstream_sample_df = clickstream_counts_rdd.toDF(['source_page', 'target_page', 'link_category', 'link_count'])\n",
    "\n",
    "# Display the DataFrame to the notebook\n",
    "clickstream_sample_df.show(truncate=False)"
   ]
  },
  {
   "cell_type": "markdown",
   "id": "1268c0b0",
   "metadata": {},
   "source": [
    "## Task Group 2 - Inspecting Clickstream Data"
   ]
  },
  {
   "cell_type": "markdown",
   "id": "1de43074",
   "metadata": {},
   "source": [
    "### Task 4\n",
    "\n",
    "Read the files in `./cleaned/clickstream/` into a new Spark DataFrame named `clickstream` and display the first few rows of the DataFrame in the notebook"
   ]
  },
  {
   "cell_type": "code",
   "execution_count": 15,
   "id": "b1e284f2",
   "metadata": {},
   "outputs": [
    {
     "name": "stdout",
     "output_type": "stream",
     "text": [
      "+-------------------+--------------------------+-------------+-------------+-----------+\n",
      "|referrer           |resource                  |link_category|language_code|click_count|\n",
      "+-------------------+--------------------------+-------------+-------------+-----------+\n",
      "|Daniel_Day-Lewis   |Phantom_Thread            |link         |en           |43190      |\n",
      "|other-internal     |Phantom_Thread            |external     |en           |21683      |\n",
      "|other-empty        |Phantom_Thread            |external     |en           |169532     |\n",
      "|90th_Academy_Awards|Phantom_Thread            |link         |en           |40449      |\n",
      "|other-search       |Phantom_Thread            |external     |en           |536940     |\n",
      "|other-search       |Tara_Grinstead_murder_case|external     |en           |30041      |\n",
      "|other-search       |Yossi_Benayoun            |external     |en           |11045      |\n",
      "|other-empty        |Parthiv_Patel             |external     |en           |11481      |\n",
      "|other-search       |Parthiv_Patel             |external     |en           |34953      |\n",
      "|other-empty        |Cosimo_de'_Medici         |external     |en           |16418      |\n",
      "|other-search       |Cosimo_de'_Medici         |external     |en           |22190      |\n",
      "|other-search       |University_of_Georgia     |external     |en           |29963      |\n",
      "|other-empty        |University_of_Georgia     |external     |en           |17325      |\n",
      "|other-search       |Carbon_monoxide_detector  |external     |en           |13617      |\n",
      "|other-empty        |Marissa_Ribisi            |external     |en           |18979      |\n",
      "|Shinee             |Kim_Jong-hyun_(singer)    |link         |en           |24433      |\n",
      "|other-search       |Kim_Jong-hyun_(singer)    |external     |en           |162466     |\n",
      "|other-empty        |Kim_Jong-hyun_(singer)    |external     |en           |60193      |\n",
      "|other-empty        |Hello_Kitty               |external     |en           |10674      |\n",
      "|other-search       |Hello_Kitty               |external     |en           |23726      |\n",
      "+-------------------+--------------------------+-------------+-------------+-----------+\n",
      "only showing top 20 rows\n",
      "\n"
     ]
    }
   ],
   "source": [
    "# Read the target directory (`./cleaned/clickstream/`) into a DataFrame (`clickstream`)\n",
    "clickstream = spark.read.option('header', True).option('delimiter', \"\\t\").option('inferSchema', True).csv(\"./cleaned/clickstream/\")\n",
    "\n",
    "# Display the DataFrame to the notebook\n",
    "clickstream.show(truncate=False)"
   ]
  },
  {
   "cell_type": "markdown",
   "id": "bdeb6013",
   "metadata": {},
   "source": [
    "### Task 5\n",
    "\n",
    "Print the schema of the DataFrame in the notebook."
   ]
  },
  {
   "cell_type": "code",
   "execution_count": 16,
   "id": "934cc169",
   "metadata": {},
   "outputs": [
    {
     "name": "stdout",
     "output_type": "stream",
     "text": [
      "root\n",
      " |-- referrer: string (nullable = true)\n",
      " |-- resource: string (nullable = true)\n",
      " |-- link_category: string (nullable = true)\n",
      " |-- language_code: string (nullable = true)\n",
      " |-- click_count: integer (nullable = true)\n",
      "\n"
     ]
    }
   ],
   "source": [
    "# Display the schema of the `clickstream` DataFrame to the notebook\n",
    "clickstream.printSchema()"
   ]
  },
  {
   "cell_type": "markdown",
   "id": "02f18366",
   "metadata": {},
   "source": [
    "### Task 6\n",
    "\n",
    "Drop the `language_code` column from the DataFrame and display the new schema in the notebook."
   ]
  },
  {
   "cell_type": "code",
   "execution_count": 17,
   "id": "17fa2a20",
   "metadata": {},
   "outputs": [
    {
     "name": "stdout",
     "output_type": "stream",
     "text": [
      "+-------------------+--------------------+-------------+-----------+\n",
      "|           referrer|            resource|link_category|click_count|\n",
      "+-------------------+--------------------+-------------+-----------+\n",
      "|   Daniel_Day-Lewis|      Phantom_Thread|         link|      43190|\n",
      "|     other-internal|      Phantom_Thread|     external|      21683|\n",
      "|        other-empty|      Phantom_Thread|     external|     169532|\n",
      "|90th_Academy_Awards|      Phantom_Thread|         link|      40449|\n",
      "|       other-search|      Phantom_Thread|     external|     536940|\n",
      "|       other-search|Tara_Grinstead_mu...|     external|      30041|\n",
      "|       other-search|      Yossi_Benayoun|     external|      11045|\n",
      "|        other-empty|       Parthiv_Patel|     external|      11481|\n",
      "|       other-search|       Parthiv_Patel|     external|      34953|\n",
      "|        other-empty|   Cosimo_de'_Medici|     external|      16418|\n",
      "|       other-search|   Cosimo_de'_Medici|     external|      22190|\n",
      "|       other-search|University_of_Geo...|     external|      29963|\n",
      "|        other-empty|University_of_Geo...|     external|      17325|\n",
      "|       other-search|Carbon_monoxide_d...|     external|      13617|\n",
      "|        other-empty|      Marissa_Ribisi|     external|      18979|\n",
      "|             Shinee|Kim_Jong-hyun_(si...|         link|      24433|\n",
      "|       other-search|Kim_Jong-hyun_(si...|     external|     162466|\n",
      "|        other-empty|Kim_Jong-hyun_(si...|     external|      60193|\n",
      "|        other-empty|         Hello_Kitty|     external|      10674|\n",
      "|       other-search|         Hello_Kitty|     external|      23726|\n",
      "+-------------------+--------------------+-------------+-----------+\n",
      "only showing top 20 rows\n",
      "\n",
      "root\n",
      " |-- referrer: string (nullable = true)\n",
      " |-- resource: string (nullable = true)\n",
      " |-- link_category: string (nullable = true)\n",
      " |-- click_count: integer (nullable = true)\n",
      "\n"
     ]
    }
   ],
   "source": [
    "# Drop target columns\n",
    "clickstream = clickstream.drop(\"language_code\")\n",
    "\n",
    "# Display the first few rows of the DataFrame\n",
    "clickstream.show()\n",
    "# Display the new schema in the notebook\n",
    "clickstream.printSchema()"
   ]
  },
  {
   "cell_type": "markdown",
   "id": "33ed64a3",
   "metadata": {},
   "source": [
    "### Task 7\n",
    "\n",
    "Rename `referrer` and `resource` to `source_page` and `target_page`, respectively,"
   ]
  },
  {
   "cell_type": "code",
   "execution_count": 18,
   "id": "0b75baed",
   "metadata": {},
   "outputs": [
    {
     "name": "stdout",
     "output_type": "stream",
     "text": [
      "+-------------------+--------------------+-------------+-----------+\n",
      "|        source_page|         target_page|link_category|click_count|\n",
      "+-------------------+--------------------+-------------+-----------+\n",
      "|   Daniel_Day-Lewis|      Phantom_Thread|         link|      43190|\n",
      "|     other-internal|      Phantom_Thread|     external|      21683|\n",
      "|        other-empty|      Phantom_Thread|     external|     169532|\n",
      "|90th_Academy_Awards|      Phantom_Thread|         link|      40449|\n",
      "|       other-search|      Phantom_Thread|     external|     536940|\n",
      "|       other-search|Tara_Grinstead_mu...|     external|      30041|\n",
      "|       other-search|      Yossi_Benayoun|     external|      11045|\n",
      "|        other-empty|       Parthiv_Patel|     external|      11481|\n",
      "|       other-search|       Parthiv_Patel|     external|      34953|\n",
      "|        other-empty|   Cosimo_de'_Medici|     external|      16418|\n",
      "|       other-search|   Cosimo_de'_Medici|     external|      22190|\n",
      "|       other-search|University_of_Geo...|     external|      29963|\n",
      "|        other-empty|University_of_Geo...|     external|      17325|\n",
      "|       other-search|Carbon_monoxide_d...|     external|      13617|\n",
      "|        other-empty|      Marissa_Ribisi|     external|      18979|\n",
      "|             Shinee|Kim_Jong-hyun_(si...|         link|      24433|\n",
      "|       other-search|Kim_Jong-hyun_(si...|     external|     162466|\n",
      "|        other-empty|Kim_Jong-hyun_(si...|     external|      60193|\n",
      "|        other-empty|         Hello_Kitty|     external|      10674|\n",
      "|       other-search|         Hello_Kitty|     external|      23726|\n",
      "+-------------------+--------------------+-------------+-----------+\n",
      "only showing top 20 rows\n",
      "\n",
      "root\n",
      " |-- source_page: string (nullable = true)\n",
      " |-- target_page: string (nullable = true)\n",
      " |-- link_category: string (nullable = true)\n",
      " |-- click_count: integer (nullable = true)\n",
      "\n"
     ]
    }
   ],
   "source": [
    "# Rename `referrer` and `resource` to `source_page` and `target_page`\n",
    "clickstream = clickstream.withColumnRenamed('referrer', 'source_page').withColumnRenamed('resource', 'target_page')\n",
    "  \n",
    "# Display the first few rows of the DataFrame\n",
    "clickstream.show()\n",
    "# Display the new schema in the notebook\n",
    "clickstream.printSchema()"
   ]
  },
  {
   "cell_type": "markdown",
   "id": "572ce589",
   "metadata": {},
   "source": [
    "## Task Group 3 - Querying Clickstream Data"
   ]
  },
  {
   "cell_type": "markdown",
   "id": "2b8a031d",
   "metadata": {},
   "source": [
    "### Task 8\n",
    "\n",
    "Add the `clickstream` DataFrame as a temporary view named `clickstream` to make the data queryable with `sparkSession.sql()`"
   ]
  },
  {
   "cell_type": "code",
   "execution_count": null,
   "id": "f017bdd8",
   "metadata": {},
   "outputs": [],
   "source": [
    "# Create a temporary view in the metadata for this `SparkSession` \n"
   ]
  },
  {
   "cell_type": "markdown",
   "id": "afd76c53",
   "metadata": {},
   "source": [
    "### Task 9\n",
    "\n",
    "Filter the dataset to entries with `Hanging_Gardens_of_Babylon` as the `target_page` and order the result by `count_clicks` using PySpark DataFrame methods."
   ]
  },
  {
   "cell_type": "code",
   "execution_count": null,
   "id": "6c20a4de",
   "metadata": {},
   "outputs": [],
   "source": [
    "# Filter and sort the DataFrame using PySpark DataFrame methods\n"
   ]
  },
  {
   "cell_type": "markdown",
   "id": "f5426a56",
   "metadata": {},
   "source": [
    "### Task 10\n",
    "\n",
    "Perform the same analysis as the previous exercise using a SQL query. "
   ]
  },
  {
   "cell_type": "code",
   "execution_count": null,
   "id": "a49bbec6",
   "metadata": {
    "scrolled": true
   },
   "outputs": [],
   "source": [
    "# Filter and sort the DataFrame using SQL\n"
   ]
  },
  {
   "cell_type": "markdown",
   "id": "0b4d53e9",
   "metadata": {},
   "source": [
    "### Task 11\n",
    "\n",
    "Calculate the sum of `click_count` grouped by `link_category` using PySpark DataFrame methods."
   ]
  },
  {
   "cell_type": "code",
   "execution_count": null,
   "id": "38bac86c",
   "metadata": {},
   "outputs": [],
   "source": [
    "# Aggregate the DataFrame using PySpark DataFrame Methods \n"
   ]
  },
  {
   "cell_type": "markdown",
   "id": "461eadc9",
   "metadata": {},
   "source": [
    "### Task 12\n",
    "\n",
    "Perform the same analysis as the previous exercise using a SQL query."
   ]
  },
  {
   "cell_type": "code",
   "execution_count": null,
   "id": "817ff99e",
   "metadata": {},
   "outputs": [],
   "source": [
    "# Aggregate the DataFrame using SQL\n"
   ]
  },
  {
   "cell_type": "markdown",
   "id": "c8b756c1",
   "metadata": {},
   "source": [
    "## Task Group 4 - Saving Results to Disk"
   ]
  },
  {
   "cell_type": "markdown",
   "id": "79110ef5",
   "metadata": {},
   "source": [
    "### Task 13\n",
    "\n",
    "Let's create a new DataFrame named `internal_clickstream` that only contains article pairs where `link_category` is `link`. Use `filter()` to select rows to a specific condition and `select()` to choose which columns to return from the query."
   ]
  },
  {
   "cell_type": "code",
   "execution_count": null,
   "id": "29e74d43",
   "metadata": {},
   "outputs": [],
   "source": [
    "# Create a new DataFrame named `internal_clickstream`\n",
    "internal_clickstream = \n",
    "\n",
    "# Display the first few rows of the DataFrame in the notebook\n"
   ]
  },
  {
   "cell_type": "markdown",
   "id": "45f45f94",
   "metadata": {},
   "source": [
    "### Task 14\n",
    "\n",
    "Using `DataFrame.write.csv()`, save the `internal_clickstream` DataFrame as CSV files in a directory called `./results/article_to_article_csv/`."
   ]
  },
  {
   "cell_type": "code",
   "execution_count": null,
   "id": "93c015ca",
   "metadata": {},
   "outputs": [],
   "source": [
    "# Save the `internal_clickstream` DataFrame to a series of CSV files\n"
   ]
  },
  {
   "cell_type": "markdown",
   "id": "aa754d6b",
   "metadata": {},
   "source": [
    "### Task 15\n",
    "\n",
    "Using `DataFrame.write.parquet()`, save the `internal_clickstream` DataFrame as parquet files in a directory called `./results/article_to_article_pq/`."
   ]
  },
  {
   "cell_type": "code",
   "execution_count": null,
   "id": "3d542098",
   "metadata": {},
   "outputs": [],
   "source": [
    "# Save the `internal_clickstream` DataFrame to a series of parquet files\n"
   ]
  },
  {
   "cell_type": "markdown",
   "id": "01cbf22c",
   "metadata": {},
   "source": [
    "### Task 16\n",
    "\n",
    "Close the `SparkSession` and underlying `SparkContext`. What happens if you we call `clickstream.show()` after closing the `SparkSession`?"
   ]
  },
  {
   "cell_type": "code",
   "execution_count": null,
   "id": "55b2c378",
   "metadata": {},
   "outputs": [],
   "source": [
    "# Stop the notebook's `SparkSession` and `SparkContext`\n"
   ]
  },
  {
   "cell_type": "code",
   "execution_count": null,
   "id": "0b663c73",
   "metadata": {},
   "outputs": [],
   "source": [
    "# The SparkSession and sparkContext are stopped; the following line will throw an error:\n",
    "clickstream.show()"
   ]
  }
 ],
 "metadata": {
  "kernelspec": {
   "display_name": "Python 3 (ipykernel)",
   "language": "python",
   "name": "python3"
  },
  "language_info": {
   "codemirror_mode": {
    "name": "ipython",
    "version": 3
   },
   "file_extension": ".py",
   "mimetype": "text/x-python",
   "name": "python",
   "nbconvert_exporter": "python",
   "pygments_lexer": "ipython3",
   "version": "3.8.10"
  }
 },
 "nbformat": 4,
 "nbformat_minor": 5
}
